{
 "cells": [
  {
   "cell_type": "markdown",
   "metadata": {},
   "source": [
    "# VacationPy\n",
    "----\n",
    "\n",
    "#### Note\n",
    "* Keep an eye on your API usage. Use https://developers.google.com/maps/reporting/gmp-reporting as reference for how to monitor your usage and billing.\n",
    "\n",
    "* Instructions have been included for each segment. You do not have to follow them exactly, but they are included to help you think through the steps."
   ]
  },
  {
   "cell_type": "code",
   "execution_count": 1,
   "metadata": {},
   "outputs": [],
   "source": [
    "# Dependencies and Setup\n",
    "import matplotlib.pyplot as plt\n",
    "import pandas as pd\n",
    "import numpy as np\n",
    "import requests\n",
    "import gmaps\n",
    "import os\n",
    "import json\n",
    "\n",
    "# Import API key\n",
    "from api_keys import g_key"
   ]
  },
  {
   "cell_type": "markdown",
   "metadata": {},
   "source": [
    "### Store Part I results into DataFrame\n",
    "* Load the csv exported in Part I to a DataFrame"
   ]
  },
  {
   "cell_type": "code",
   "execution_count": 2,
   "metadata": {},
   "outputs": [
    {
     "data": {
      "text/html": [
       "<div>\n",
       "<style scoped>\n",
       "    .dataframe tbody tr th:only-of-type {\n",
       "        vertical-align: middle;\n",
       "    }\n",
       "\n",
       "    .dataframe tbody tr th {\n",
       "        vertical-align: top;\n",
       "    }\n",
       "\n",
       "    .dataframe thead th {\n",
       "        text-align: right;\n",
       "    }\n",
       "</style>\n",
       "<table border=\"1\" class=\"dataframe\">\n",
       "  <thead>\n",
       "    <tr style=\"text-align: right;\">\n",
       "      <th></th>\n",
       "      <th>City</th>\n",
       "      <th>Lat</th>\n",
       "      <th>Lng</th>\n",
       "      <th>Max Temp</th>\n",
       "      <th>Humidity</th>\n",
       "      <th>Cloudiness</th>\n",
       "      <th>Wind Speed</th>\n",
       "      <th>Country</th>\n",
       "      <th>Date</th>\n",
       "    </tr>\n",
       "  </thead>\n",
       "  <tbody>\n",
       "    <tr>\n",
       "      <th>0</th>\n",
       "      <td>thompson</td>\n",
       "      <td>55.74</td>\n",
       "      <td>-97.86</td>\n",
       "      <td>-2.20</td>\n",
       "      <td>84</td>\n",
       "      <td>40</td>\n",
       "      <td>3.36</td>\n",
       "      <td>CA</td>\n",
       "      <td>1607659730</td>\n",
       "    </tr>\n",
       "    <tr>\n",
       "      <th>1</th>\n",
       "      <td>lucera</td>\n",
       "      <td>41.51</td>\n",
       "      <td>15.34</td>\n",
       "      <td>44.60</td>\n",
       "      <td>81</td>\n",
       "      <td>75</td>\n",
       "      <td>4.70</td>\n",
       "      <td>IT</td>\n",
       "      <td>1607659926</td>\n",
       "    </tr>\n",
       "    <tr>\n",
       "      <th>2</th>\n",
       "      <td>bengkulu</td>\n",
       "      <td>-3.80</td>\n",
       "      <td>102.27</td>\n",
       "      <td>82.69</td>\n",
       "      <td>70</td>\n",
       "      <td>89</td>\n",
       "      <td>12.10</td>\n",
       "      <td>ID</td>\n",
       "      <td>1607659928</td>\n",
       "    </tr>\n",
       "    <tr>\n",
       "      <th>3</th>\n",
       "      <td>punta arenas</td>\n",
       "      <td>-53.15</td>\n",
       "      <td>-70.92</td>\n",
       "      <td>44.60</td>\n",
       "      <td>81</td>\n",
       "      <td>0</td>\n",
       "      <td>5.82</td>\n",
       "      <td>CL</td>\n",
       "      <td>1607659929</td>\n",
       "    </tr>\n",
       "    <tr>\n",
       "      <th>4</th>\n",
       "      <td>rikitea</td>\n",
       "      <td>-23.12</td>\n",
       "      <td>-134.97</td>\n",
       "      <td>77.22</td>\n",
       "      <td>79</td>\n",
       "      <td>60</td>\n",
       "      <td>14.23</td>\n",
       "      <td>PF</td>\n",
       "      <td>1607659930</td>\n",
       "    </tr>\n",
       "  </tbody>\n",
       "</table>\n",
       "</div>"
      ],
      "text/plain": [
       "           City    Lat     Lng  Max Temp  Humidity  Cloudiness  Wind Speed  \\\n",
       "0      thompson  55.74  -97.86     -2.20        84          40        3.36   \n",
       "1        lucera  41.51   15.34     44.60        81          75        4.70   \n",
       "2      bengkulu  -3.80  102.27     82.69        70          89       12.10   \n",
       "3  punta arenas -53.15  -70.92     44.60        81           0        5.82   \n",
       "4       rikitea -23.12 -134.97     77.22        79          60       14.23   \n",
       "\n",
       "  Country        Date  \n",
       "0      CA  1607659730  \n",
       "1      IT  1607659926  \n",
       "2      ID  1607659928  \n",
       "3      CL  1607659929  \n",
       "4      PF  1607659930  "
      ]
     },
     "execution_count": 2,
     "metadata": {},
     "output_type": "execute_result"
    }
   ],
   "source": [
    "cities_df = pd.read_csv(\"../WeatherPy/weather_data.csv\")\n",
    "cities_df.head()"
   ]
  },
  {
   "cell_type": "markdown",
   "metadata": {},
   "source": [
    "### Humidity Heatmap\n",
    "* Configure gmaps.\n",
    "* Use the Lat and Lng as locations and Humidity as the weight.\n",
    "* Add Heatmap layer to map."
   ]
  },
  {
   "cell_type": "code",
   "execution_count": 3,
   "metadata": {},
   "outputs": [],
   "source": [
    "gmaps.configure(api_key=g_key)"
   ]
  },
  {
   "cell_type": "code",
   "execution_count": 4,
   "metadata": {},
   "outputs": [
    {
     "name": "stdout",
     "output_type": "stream",
     "text": [
      "562\n"
     ]
    }
   ],
   "source": [
    "locations = cities_df[['Lat','Lng']]\n",
    "humidity = cities_df['Humidity']\n",
    "print(len(humidity))"
   ]
  },
  {
   "cell_type": "code",
   "execution_count": 5,
   "metadata": {},
   "outputs": [
    {
     "data": {
      "application/vnd.jupyter.widget-view+json": {
       "model_id": "fea5c69f4d2b40d09d10815ef5f6ac20",
       "version_major": 2,
       "version_minor": 0
      },
      "text/plain": [
       "Figure(layout=FigureLayout(height='420px'))"
      ]
     },
     "metadata": {},
     "output_type": "display_data"
    }
   ],
   "source": [
    "fig = gmaps.figure()\n",
    "\n",
    "heat_layer = gmaps.heatmap_layer(locations, weights=humidity, dissipating=False, max_intensity=100,\n",
    "                                 point_radius = 4)\n",
    "\n",
    "fig.add_layer(heat_layer)\n",
    "\n",
    "fig"
   ]
  },
  {
   "cell_type": "markdown",
   "metadata": {},
   "source": [
    "### Create new DataFrame fitting weather criteria\n",
    "* Narrow down the cities to fit weather conditions.\n",
    "* Drop any rows will null values."
   ]
  },
  {
   "cell_type": "code",
   "execution_count": 17,
   "metadata": {},
   "outputs": [],
   "source": [
    "vacation_df = cities_df.loc[(cities_df['Max Temp']>71) & (cities_df['Wind Speed']<10) \\\n",
    "                            & (cities_df['Max Temp']<79) & (cities_df['Humidity']<70) \\\n",
    "                            & (cities_df['Cloudiness']<10)]"
   ]
  },
  {
   "cell_type": "code",
   "execution_count": 18,
   "metadata": {},
   "outputs": [],
   "source": [
    "### Hotel Map\n",
    "# * Store into variable named `hotel_df`.\n",
    "# * Add a \"Hotel Name\" column to the DataFrame.\n",
    "# * Set parameters to search for hotels with 5000 meters.\n",
    "# * Hit the Google Places API for each city's coordinates.\n",
    "# * Store the first Hotel result into the DataFrame.\n",
    "# * Plot markers on top of the heatmap."
   ]
  },
  {
   "cell_type": "code",
   "execution_count": 19,
   "metadata": {},
   "outputs": [
    {
     "name": "stderr",
     "output_type": "stream",
     "text": [
      "<ipython-input-19-7c40fe4ad9b2>:1: SettingWithCopyWarning: \n",
      "A value is trying to be set on a copy of a slice from a DataFrame.\n",
      "Try using .loc[row_indexer,col_indexer] = value instead\n",
      "\n",
      "See the caveats in the documentation: https://pandas.pydata.org/pandas-docs/stable/user_guide/indexing.html#returning-a-view-versus-a-copy\n",
      "  vacation_df['Hotel'] = \"\"\n"
     ]
    },
    {
     "data": {
      "text/html": [
       "<div>\n",
       "<style scoped>\n",
       "    .dataframe tbody tr th:only-of-type {\n",
       "        vertical-align: middle;\n",
       "    }\n",
       "\n",
       "    .dataframe tbody tr th {\n",
       "        vertical-align: top;\n",
       "    }\n",
       "\n",
       "    .dataframe thead th {\n",
       "        text-align: right;\n",
       "    }\n",
       "</style>\n",
       "<table border=\"1\" class=\"dataframe\">\n",
       "  <thead>\n",
       "    <tr style=\"text-align: right;\">\n",
       "      <th></th>\n",
       "      <th>City</th>\n",
       "      <th>Lat</th>\n",
       "      <th>Lng</th>\n",
       "      <th>Max Temp</th>\n",
       "      <th>Humidity</th>\n",
       "      <th>Cloudiness</th>\n",
       "      <th>Wind Speed</th>\n",
       "      <th>Country</th>\n",
       "      <th>Date</th>\n",
       "      <th>Hotel</th>\n",
       "    </tr>\n",
       "  </thead>\n",
       "  <tbody>\n",
       "    <tr>\n",
       "      <th>155</th>\n",
       "      <td>new norfolk</td>\n",
       "      <td>-42.78</td>\n",
       "      <td>147.06</td>\n",
       "      <td>71.01</td>\n",
       "      <td>36</td>\n",
       "      <td>0</td>\n",
       "      <td>1.99</td>\n",
       "      <td>AU</td>\n",
       "      <td>1607659890</td>\n",
       "      <td></td>\n",
       "    </tr>\n",
       "    <tr>\n",
       "      <th>170</th>\n",
       "      <td>wawa</td>\n",
       "      <td>9.90</td>\n",
       "      <td>4.42</td>\n",
       "      <td>72.88</td>\n",
       "      <td>40</td>\n",
       "      <td>0</td>\n",
       "      <td>2.82</td>\n",
       "      <td>NG</td>\n",
       "      <td>1607660121</td>\n",
       "      <td></td>\n",
       "    </tr>\n",
       "    <tr>\n",
       "      <th>353</th>\n",
       "      <td>kedougou</td>\n",
       "      <td>12.56</td>\n",
       "      <td>-12.17</td>\n",
       "      <td>75.20</td>\n",
       "      <td>50</td>\n",
       "      <td>0</td>\n",
       "      <td>2.24</td>\n",
       "      <td>SN</td>\n",
       "      <td>1607660260</td>\n",
       "      <td></td>\n",
       "    </tr>\n",
       "    <tr>\n",
       "      <th>358</th>\n",
       "      <td>mecca</td>\n",
       "      <td>21.43</td>\n",
       "      <td>39.83</td>\n",
       "      <td>71.04</td>\n",
       "      <td>40</td>\n",
       "      <td>0</td>\n",
       "      <td>4.88</td>\n",
       "      <td>SA</td>\n",
       "      <td>1607660329</td>\n",
       "      <td></td>\n",
       "    </tr>\n",
       "    <tr>\n",
       "      <th>402</th>\n",
       "      <td>ladario</td>\n",
       "      <td>-19.00</td>\n",
       "      <td>-57.60</td>\n",
       "      <td>77.40</td>\n",
       "      <td>58</td>\n",
       "      <td>0</td>\n",
       "      <td>3.00</td>\n",
       "      <td>BR</td>\n",
       "      <td>1607660354</td>\n",
       "      <td></td>\n",
       "    </tr>\n",
       "    <tr>\n",
       "      <th>444</th>\n",
       "      <td>launceston</td>\n",
       "      <td>-41.45</td>\n",
       "      <td>147.17</td>\n",
       "      <td>71.01</td>\n",
       "      <td>40</td>\n",
       "      <td>0</td>\n",
       "      <td>3.36</td>\n",
       "      <td>AU</td>\n",
       "      <td>1607660394</td>\n",
       "      <td></td>\n",
       "    </tr>\n",
       "  </tbody>\n",
       "</table>\n",
       "</div>"
      ],
      "text/plain": [
       "            City    Lat     Lng  Max Temp  Humidity  Cloudiness  Wind Speed  \\\n",
       "155  new norfolk -42.78  147.06     71.01        36           0        1.99   \n",
       "170         wawa   9.90    4.42     72.88        40           0        2.82   \n",
       "353     kedougou  12.56  -12.17     75.20        50           0        2.24   \n",
       "358        mecca  21.43   39.83     71.04        40           0        4.88   \n",
       "402      ladario -19.00  -57.60     77.40        58           0        3.00   \n",
       "444   launceston -41.45  147.17     71.01        40           0        3.36   \n",
       "\n",
       "    Country        Date Hotel  \n",
       "155      AU  1607659890        \n",
       "170      NG  1607660121        \n",
       "353      SN  1607660260        \n",
       "358      SA  1607660329        \n",
       "402      BR  1607660354        \n",
       "444      AU  1607660394        "
      ]
     },
     "execution_count": 19,
     "metadata": {},
     "output_type": "execute_result"
    }
   ],
   "source": [
    "vacation_df['Hotel'] = \"\"\n",
    "\n",
    "#vacation_df.drop(vacation_df[vacation_df['City'] == \"agadez\"].index, inplace=True)\n",
    "vacation_df"
   ]
  },
  {
   "cell_type": "code",
   "execution_count": 20,
   "metadata": {},
   "outputs": [
    {
     "name": "stdout",
     "output_type": "stream",
     "text": [
      "\"-42.78, 147.06\"\n",
      "155: new norfolk\n",
      "\"9.9, 4.42\"\n",
      "170: wawa\n",
      "\"12.56, -12.17\"\n",
      "353: kedougou\n",
      "\"21.43, 39.83\"\n",
      "358: mecca\n",
      "\"-19.0, -57.6\"\n",
      "402: ladario\n",
      "\"-41.45, 147.17\"\n",
      "444: launceston\n"
     ]
    }
   ],
   "source": [
    "#check iterrow logic\n",
    "for index, row in vacation_df.iterrows():\n",
    "    location_marker =  \"\\\"%s\\\"\" % f\"{row['Lat']}, {row['Lng']}\"\n",
    "    print(location_marker)\n",
    "    print(f\"{index}: {row['City']}\")\n",
    "    #vacation_df.loc[index, 'location'] = str(location)\n",
    "    #vacation_df['location'] = vacation_df['location'].astype(str)"
   ]
  },
  {
   "cell_type": "code",
   "execution_count": 21,
   "metadata": {},
   "outputs": [
    {
     "name": "stdout",
     "output_type": "stream",
     "text": [
      "The Shingles Riverside Cottages\n"
     ]
    },
    {
     "name": "stderr",
     "output_type": "stream",
     "text": [
      "C:\\Users\\melanie.nolker\\Anaconda3\\lib\\site-packages\\pandas\\core\\indexing.py:966: SettingWithCopyWarning: \n",
      "A value is trying to be set on a copy of a slice from a DataFrame.\n",
      "Try using .loc[row_indexer,col_indexer] = value instead\n",
      "\n",
      "See the caveats in the documentation: https://pandas.pydata.org/pandas-docs/stable/user_guide/indexing.html#returning-a-view-versus-a-copy\n",
      "  self.obj[item] = s\n"
     ]
    },
    {
     "name": "stdout",
     "output_type": "stream",
     "text": [
      "Missing field/result... skipping.\n",
      "Relais de Kédougou\n",
      "Hotel Fairmont Makkah Clock Royal Tower\n",
      "Hotel Fazenda 4 cantos\n",
      "Hotel Grand Chancellor Launceston\n"
     ]
    }
   ],
   "source": [
    "#Find hotels\n",
    "for index, row in vacation_df.iterrows():\n",
    "    # set up a parameters dictionary\n",
    "    location_marker = f\"{row['Lat']}, {row['Lng']}\"\n",
    "    params = {\n",
    "        \"location\": location_marker,\n",
    "        \"radius\": 5000,\n",
    "        \"type\": \"lodging\",\n",
    "        \"key\": g_key\n",
    "    }\n",
    "    # base url\n",
    "    base_url = \"https://maps.googleapis.com/maps/api/place/nearbysearch/json\"\n",
    "    # run a request using our params dictionary\n",
    "    try:\n",
    "        response = requests.get(base_url, params=params)\n",
    "        places_data = response.json()\n",
    "        #print(json.dumps(places_data, indent=4, sort_keys=True))\n",
    "        print(places_data[\"results\"][0][\"name\"])\n",
    "        vacation_df.loc[index, 'Hotel'] = places_data[\"results\"][0][\"name\"]\n",
    "    \n",
    "    except (KeyError, IndexError):\n",
    "        print(\"Missing field/result... skipping.\")\n",
    "        vacation_df.loc[index, 'Hotel'] = \"No Hotel found\""
   ]
  },
  {
   "cell_type": "code",
   "execution_count": 22,
   "metadata": {},
   "outputs": [
    {
     "data": {
      "text/html": [
       "<div>\n",
       "<style scoped>\n",
       "    .dataframe tbody tr th:only-of-type {\n",
       "        vertical-align: middle;\n",
       "    }\n",
       "\n",
       "    .dataframe tbody tr th {\n",
       "        vertical-align: top;\n",
       "    }\n",
       "\n",
       "    .dataframe thead th {\n",
       "        text-align: right;\n",
       "    }\n",
       "</style>\n",
       "<table border=\"1\" class=\"dataframe\">\n",
       "  <thead>\n",
       "    <tr style=\"text-align: right;\">\n",
       "      <th></th>\n",
       "      <th>City</th>\n",
       "      <th>Lat</th>\n",
       "      <th>Lng</th>\n",
       "      <th>Max Temp</th>\n",
       "      <th>Humidity</th>\n",
       "      <th>Cloudiness</th>\n",
       "      <th>Wind Speed</th>\n",
       "      <th>Country</th>\n",
       "      <th>Date</th>\n",
       "      <th>Hotel</th>\n",
       "    </tr>\n",
       "  </thead>\n",
       "  <tbody>\n",
       "    <tr>\n",
       "      <th>155</th>\n",
       "      <td>new norfolk</td>\n",
       "      <td>-42.78</td>\n",
       "      <td>147.06</td>\n",
       "      <td>71.01</td>\n",
       "      <td>36</td>\n",
       "      <td>0</td>\n",
       "      <td>1.99</td>\n",
       "      <td>AU</td>\n",
       "      <td>1607659890</td>\n",
       "      <td>The Shingles Riverside Cottages</td>\n",
       "    </tr>\n",
       "    <tr>\n",
       "      <th>170</th>\n",
       "      <td>wawa</td>\n",
       "      <td>9.90</td>\n",
       "      <td>4.42</td>\n",
       "      <td>72.88</td>\n",
       "      <td>40</td>\n",
       "      <td>0</td>\n",
       "      <td>2.82</td>\n",
       "      <td>NG</td>\n",
       "      <td>1607660121</td>\n",
       "      <td>No Hotel found</td>\n",
       "    </tr>\n",
       "    <tr>\n",
       "      <th>353</th>\n",
       "      <td>kedougou</td>\n",
       "      <td>12.56</td>\n",
       "      <td>-12.17</td>\n",
       "      <td>75.20</td>\n",
       "      <td>50</td>\n",
       "      <td>0</td>\n",
       "      <td>2.24</td>\n",
       "      <td>SN</td>\n",
       "      <td>1607660260</td>\n",
       "      <td>Relais de Kédougou</td>\n",
       "    </tr>\n",
       "    <tr>\n",
       "      <th>358</th>\n",
       "      <td>mecca</td>\n",
       "      <td>21.43</td>\n",
       "      <td>39.83</td>\n",
       "      <td>71.04</td>\n",
       "      <td>40</td>\n",
       "      <td>0</td>\n",
       "      <td>4.88</td>\n",
       "      <td>SA</td>\n",
       "      <td>1607660329</td>\n",
       "      <td>Hotel Fairmont Makkah Clock Royal Tower</td>\n",
       "    </tr>\n",
       "    <tr>\n",
       "      <th>402</th>\n",
       "      <td>ladario</td>\n",
       "      <td>-19.00</td>\n",
       "      <td>-57.60</td>\n",
       "      <td>77.40</td>\n",
       "      <td>58</td>\n",
       "      <td>0</td>\n",
       "      <td>3.00</td>\n",
       "      <td>BR</td>\n",
       "      <td>1607660354</td>\n",
       "      <td>Hotel Fazenda 4 cantos</td>\n",
       "    </tr>\n",
       "    <tr>\n",
       "      <th>444</th>\n",
       "      <td>launceston</td>\n",
       "      <td>-41.45</td>\n",
       "      <td>147.17</td>\n",
       "      <td>71.01</td>\n",
       "      <td>40</td>\n",
       "      <td>0</td>\n",
       "      <td>3.36</td>\n",
       "      <td>AU</td>\n",
       "      <td>1607660394</td>\n",
       "      <td>Hotel Grand Chancellor Launceston</td>\n",
       "    </tr>\n",
       "  </tbody>\n",
       "</table>\n",
       "</div>"
      ],
      "text/plain": [
       "            City    Lat     Lng  Max Temp  Humidity  Cloudiness  Wind Speed  \\\n",
       "155  new norfolk -42.78  147.06     71.01        36           0        1.99   \n",
       "170         wawa   9.90    4.42     72.88        40           0        2.82   \n",
       "353     kedougou  12.56  -12.17     75.20        50           0        2.24   \n",
       "358        mecca  21.43   39.83     71.04        40           0        4.88   \n",
       "402      ladario -19.00  -57.60     77.40        58           0        3.00   \n",
       "444   launceston -41.45  147.17     71.01        40           0        3.36   \n",
       "\n",
       "    Country        Date                                    Hotel  \n",
       "155      AU  1607659890          The Shingles Riverside Cottages  \n",
       "170      NG  1607660121                           No Hotel found  \n",
       "353      SN  1607660260                       Relais de Kédougou  \n",
       "358      SA  1607660329  Hotel Fairmont Makkah Clock Royal Tower  \n",
       "402      BR  1607660354                   Hotel Fazenda 4 cantos  \n",
       "444      AU  1607660394        Hotel Grand Chancellor Launceston  "
      ]
     },
     "execution_count": 22,
     "metadata": {},
     "output_type": "execute_result"
    }
   ],
   "source": [
    "vacation_df"
   ]
  },
  {
   "cell_type": "code",
   "execution_count": 23,
   "metadata": {},
   "outputs": [],
   "source": [
    "# NOTE: Do not change any of the code in this cell\n",
    "\n",
    "# Using the template add the hotel marks to the heatmap\n",
    "info_box_template = \"\"\"\n",
    "<dl>\n",
    "<dt>Name</dt><dd>{Hotel}</dd>\n",
    "<dt>City</dt><dd>{City}</dd>\n",
    "<dt>Country</dt><dd>{Country}</dd>\n",
    "</dl>\n",
    "\"\"\"\n",
    "# Store the DataFrame Row\n",
    "# NOTE: be sure to update with your DataFrame name\n",
    "hotel_info = [info_box_template.format(**row) for index, row in vacation_df.iterrows()]\n",
    "locations_markers = vacation_df[[\"Lat\", \"Lng\"]] "
   ]
  },
  {
   "cell_type": "code",
   "execution_count": 24,
   "metadata": {},
   "outputs": [
    {
     "data": {
      "application/vnd.jupyter.widget-view+json": {
       "model_id": "00dc1c8245a7403b92b5b3e4e0d40fbe",
       "version_major": 2,
       "version_minor": 0
      },
      "text/plain": [
       "Figure(layout=FigureLayout(height='420px'))"
      ]
     },
     "metadata": {},
     "output_type": "display_data"
    }
   ],
   "source": [
    "# Add marker layer ontop of heat map\n",
    "fig = gmaps.figure()\n",
    "markers = gmaps.marker_layer(locations_markers,info_box_content=hotel_info)\n",
    "\n",
    "heat_layer = gmaps.heatmap_layer(locations, weights=humidity, dissipating=False, max_intensity=100,\n",
    "                                 point_radius = 4)\n",
    "\n",
    "# Display figure\n",
    "fig.add_layer(markers)\n",
    "fig.add_layer(heat_layer)\n",
    "fig"
   ]
  },
  {
   "cell_type": "code",
   "execution_count": null,
   "metadata": {},
   "outputs": [],
   "source": []
  }
 ],
 "metadata": {
  "kernelspec": {
   "display_name": "PythonData3",
   "language": "python",
   "name": "pythondata3"
  },
  "language_info": {
   "codemirror_mode": {
    "name": "ipython",
    "version": 3
   },
   "file_extension": ".py",
   "mimetype": "text/x-python",
   "name": "python",
   "nbconvert_exporter": "python",
   "pygments_lexer": "ipython3",
   "version": "3.8.3"
  },
  "latex_envs": {
   "LaTeX_envs_menu_present": true,
   "autoclose": false,
   "autocomplete": true,
   "bibliofile": "biblio.bib",
   "cite_by": "apalike",
   "current_citInitial": 1,
   "eqLabelWithNumbers": true,
   "eqNumInitial": 1,
   "hotkeys": {
    "equation": "Ctrl-E",
    "itemize": "Ctrl-I"
   },
   "labels_anchors": false,
   "latex_user_defs": false,
   "report_style_numbering": false,
   "user_envs_cfg": false
  }
 },
 "nbformat": 4,
 "nbformat_minor": 4
}
